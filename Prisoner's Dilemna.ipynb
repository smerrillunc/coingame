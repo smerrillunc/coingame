{
 "cells": [
  {
   "cell_type": "code",
   "execution_count": 1,
   "metadata": {},
   "outputs": [],
   "source": [
    "import math\n",
    "import random\n",
    "import matplotlib\n",
    "import matplotlib.pyplot as plt\n",
    "from collections import namedtuple, deque\n",
    "from itertools import count\n",
    "import seaborn as sns\n",
    "import torch\n",
    "import torch.nn as nn\n",
    "import torch.optim as optim\n",
    "import torch.nn.functional as F\n",
    "import pandas as pd\n",
    "import numpy as np\n",
    "from sklearn.utils import shuffle\n",
    "import unittest\n",
    "import gc\n",
    "\n",
    "# set up matplotlib\n",
    "is_ipython = 'inline' in matplotlib.get_backend()\n",
    "if is_ipython:\n",
    "    from IPython import display\n",
    "\n",
    "plt.ion()\n",
    "\n",
    "# if GPU is to be used\n",
    "device = torch.device(\"cuda\" if torch.cuda.is_available() else \"cpu\")\n",
    "\n",
    "import sys\n",
    "\n",
    "sys.path.append('/Users/scottmerrill/Documents/UNC/Research/coingame/evoenv')\n",
    "import evoenv\n",
    "from evoenv.envs.coin_game import CoinGame\n",
    "from evoenv.envs.enumerated_stochastic_game import EnumeratedStochasticGame, MatrixGame\n",
    "from evoenv.matrixtools.matrixtools import FloatTupleDtype\n",
    "\n",
    "from players import PPOPlayer, DQNPlayer, VPGPlayer\n",
    "from population import Population\n",
    "from networks import MLP, GaussianPolicy, CategoricalPolicy\n",
    "from memoryBuffers import ReplayBuffer, Buffer\n",
    "import coinGameExperiment\n",
    "import configparser\n",
    "from datetime import datetime\n",
    "\n",
    "from cg_utils import section_to_dict, build_reward_matrix, plot_reward_hist, show_payoff_mat\n",
    "from pivottablejs import pivot_ui\n",
    "\n",
    "import ipywidgets as widgets\n",
    "from IPython.display import display"
   ]
  },
  {
   "cell_type": "markdown",
   "metadata": {},
   "source": [
    "### Set Main Params"
   ]
  },
  {
   "cell_type": "code",
   "execution_count": 2,
   "metadata": {},
   "outputs": [
    {
     "data": {
      "application/vnd.jupyter.widget-view+json": {
       "model_id": "5f478d9c9b9d4b32a2d44f54989085ad",
       "version_major": 2,
       "version_minor": 0
      },
      "text/plain": [
       "IntSlider(value=5, description='Rounds', max=1000, min=1, style=SliderStyle(description_width='initial', handl…"
      ]
     },
     "metadata": {},
     "output_type": "display_data"
    },
    {
     "data": {
      "application/vnd.jupyter.widget-view+json": {
       "model_id": "41719936254a4903b037125fdb34cd97",
       "version_major": 2,
       "version_minor": 0
      },
      "text/plain": [
       "IntSlider(value=100, description='Timesteps', max=1000, min=1, style=SliderStyle(description_width='initial', …"
      ]
     },
     "metadata": {},
     "output_type": "display_data"
    },
    {
     "data": {
      "application/vnd.jupyter.widget-view+json": {
       "model_id": "657122dc8886456faf5eba63e3835821",
       "version_major": 2,
       "version_minor": 0
      },
      "text/plain": [
       "IntSlider(value=0, description='Count', max=5, style=SliderStyle(description_width='initial', handle_color='li…"
      ]
     },
     "metadata": {},
     "output_type": "display_data"
    },
    {
     "data": {
      "application/vnd.jupyter.widget-view+json": {
       "model_id": "7fb2d9523bd14cacaacead7206203592",
       "version_major": 2,
       "version_minor": 0
      },
      "text/plain": [
       "IntSlider(value=20, description='N', min=1, style=SliderStyle(description_width='initial', handle_color='light…"
      ]
     },
     "metadata": {},
     "output_type": "display_data"
    },
    {
     "data": {
      "application/vnd.jupyter.widget-view+json": {
       "model_id": "70523c0a9da34398a728430e6f65a92b",
       "version_major": 2,
       "version_minor": 0
      },
      "text/plain": [
       "IntSlider(value=1, description='d', max=10, min=1, style=SliderStyle(description_width='initial', handle_color…"
      ]
     },
     "metadata": {},
     "output_type": "display_data"
    },
    {
     "data": {
      "application/vnd.jupyter.widget-view+json": {
       "model_id": "b7df4a6e0ebe4bdaaabd71709bf1157f",
       "version_major": 2,
       "version_minor": 0
      },
      "text/plain": [
       "IntSlider(value=1, description='memory', max=5, min=1, style=SliderStyle(description_width='initial', handle_c…"
      ]
     },
     "metadata": {},
     "output_type": "display_data"
    },
    {
     "data": {
      "application/vnd.jupyter.widget-view+json": {
       "model_id": "109d6b1753234644b72c83d6538a7c58",
       "version_major": 2,
       "version_minor": 0
      },
      "text/plain": [
       "IntSlider(value=1, description='hidden_size_multiple', max=10, min=1, style=SliderStyle(description_width='ini…"
      ]
     },
     "metadata": {},
     "output_type": "display_data"
    },
    {
     "data": {
      "application/vnd.jupyter.widget-view+json": {
       "model_id": "73b1618117934facb8ad097fcbbe154b",
       "version_major": 2,
       "version_minor": 0
      },
      "text/plain": [
       "IntSlider(value=3, description='a', min=-100, style=SliderStyle(description_width='initial', handle_color='lig…"
      ]
     },
     "metadata": {},
     "output_type": "display_data"
    },
    {
     "data": {
      "application/vnd.jupyter.widget-view+json": {
       "model_id": "f556a19891544421b12f76ed5b61ec6c",
       "version_major": 2,
       "version_minor": 0
      },
      "text/plain": [
       "IntSlider(value=20, description='b', min=-100, style=SliderStyle(description_width='initial', handle_color='li…"
      ]
     },
     "metadata": {},
     "output_type": "display_data"
    },
    {
     "data": {
      "application/vnd.jupyter.widget-view+json": {
       "model_id": "abee68a2b8094efc9105f14e9dc81f4f",
       "version_major": 2,
       "version_minor": 0
      },
      "text/plain": [
       "IntSlider(value=-5, description='c', min=-100, style=SliderStyle(description_width='initial', handle_color='li…"
      ]
     },
     "metadata": {},
     "output_type": "display_data"
    },
    {
     "data": {
      "application/vnd.jupyter.widget-view+json": {
       "model_id": "70523c0a9da34398a728430e6f65a92b",
       "version_major": 2,
       "version_minor": 0
      },
      "text/plain": [
       "IntSlider(value=1, description='d', max=10, min=1, style=SliderStyle(description_width='initial', handle_color…"
      ]
     },
     "metadata": {},
     "output_type": "display_data"
    }
   ],
   "source": [
    "slider_style = {'description_width': 'initial', 'handle_color': 'lightblue', 'width': '100%', 'margin': '5px 0 0 0'}\n",
    "\n",
    "rounds = widgets.IntSlider(value=5, min=1, max=1000, step=1, description='Rounds')\n",
    "rounds.style = slider_style\n",
    "\n",
    "timesteps = widgets.IntSlider(value=100, min=1, max=1000, step=1, description='Timesteps')\n",
    "timesteps.style = slider_style\n",
    "\n",
    "count = widgets.IntSlider(value=0, min=0, max=5, step=1, description='Count')\n",
    "count.style = slider_style\n",
    "\n",
    "N = widgets.IntSlider(value=20, min=1, max=100, step=1, description='N')\n",
    "N.style = slider_style\n",
    "\n",
    "d = widgets.IntSlider(value=1, min=1, max=N.value//2, step=1, description='d')\n",
    "d.style = slider_style\n",
    "\n",
    "hidden_size_multiple = widgets.IntSlider(value=1, min=1, max=10, step=1, description='hidden_size_multiple')\n",
    "hidden_size_multiple.style = slider_style\n",
    "\n",
    "a = widgets.IntSlider(value=3, min=-100, max=100, step=1, description='a')\n",
    "a.style = slider_style\n",
    "\n",
    "b = widgets.IntSlider(value=20, min=-100, max=100, step=1, description='b')\n",
    "b.style = slider_style\n",
    "\n",
    "c = widgets.IntSlider(value=-5, min=-100, max=100, step=1, description='c')\n",
    "c.style = slider_style\n",
    "\n",
    "d2 = widgets.IntSlider(value=5, min=-100, max=100, step=1, description='d')\n",
    "d2.style = slider_style\n",
    "\n",
    "memory = widgets.IntSlider(value=1, min=1, max=5, step=1, description='memory') \n",
    "memory.style = slider_style\n",
    "rewards = build_reward_matrix(a.value, b.value, c.value, d2.value)\n",
    "\n",
    "display(rounds)\n",
    "display(timesteps)\n",
    "display(count)\n",
    "display(N)\n",
    "display(d)\n",
    "display(memory)\n",
    "display(hidden_size_multiple)\n",
    "display(a)\n",
    "display(b)\n",
    "display(c)\n",
    "display(d)"
   ]
  },
  {
   "cell_type": "code",
   "execution_count": 3,
   "metadata": {},
   "outputs": [
    {
     "data": {
      "image/png": "[encoded data removed]",
      "text/plain": [
       "<Figure size 640x480 with 2 Axes>"
      ]
     },
     "metadata": {},
     "output_type": "display_data"
    }
   ],
   "source": [
    "show_payoff_mat(rewards)"
   ]
  },
  {
   "cell_type": "markdown",
   "metadata": {},
   "source": [
    "### Environment Setup"
   ]
  },
  {
   "cell_type": "code",
   "execution_count": 4,
   "metadata": {},
   "outputs": [],
   "source": [
    "population_dict = {'N':N.value,\n",
    "                'd':d.value}\n",
    "\n",
    "# environment settings\n",
    "state_space = 1\n",
    "actions_space = 2\n",
    "\n",
    "# players memory\n",
    "players_per_game = 2\n",
    "\n",
    "# input size, we need an additional state for every memory lookback\n",
    "# we also are appending to the state each players action\n",
    "input_size = state_space + (state_space + players_per_game*actions_space) * (memory.value)\n",
    "\n",
    "rewards = build_reward_matrix(a.value, b.value, c.value, d2.value)\n",
    "env = MatrixGame\n",
    "env_options = {'rewards':rewards}\n",
    "\n",
    "\n",
    "# two states, but returned as a single scalar (0 or 1), two actions\n",
    "env_description = {'obs_dim':input_size,\n",
    "                   'act_dim':actions_space,\n",
    "                   'act_limit':1}\n",
    "\n",
    "env_dict = {'env':env,\n",
    "            'env_options':env_options,\n",
    "            'env_description':env_description}"
   ]
  },
  {
   "cell_type": "markdown",
   "metadata": {},
   "source": [
    "### Player Setup"
   ]
  },
  {
   "cell_type": "code",
   "execution_count": 5,
   "metadata": {},
   "outputs": [],
   "source": [
    "# player settings\n",
    "base_player_options = {'memory':memory.value}"
   ]
  },
  {
   "cell_type": "markdown",
   "metadata": {},
   "source": [
    "### VPG"
   ]
  },
  {
   "cell_type": "code",
   "execution_count": 6,
   "metadata": {},
   "outputs": [],
   "source": [
    "config_file_path = 'configs/VPG.ini' \n",
    "config = configparser.ConfigParser()\n",
    "config.read(config_file_path)\n",
    "\n",
    "vpg_models = [section_to_dict(config, 'models'), section_to_dict(config, 'models')]\n",
    "\n",
    "actor_config = section_to_dict(config, 'actor_config')\n",
    "critic_config = section_to_dict(config, 'critic_config')\n",
    "\n",
    "actor_config['input_size'] = input_size\n",
    "actor_config['hidden_sizes'] = (hidden_size_multiple.value*input_size,)\n",
    "actor_config['output_size'] = int(actions_space)\n",
    "\n",
    "critic_config['input_size'] = input_size\n",
    "critic_config['output_size'] = int(1)\n",
    "critic_config['hidden_sizes'] = (hidden_size_multiple.value*input_size,)\n",
    "\n",
    "vpg_model_params = [actor_config, critic_config]\n",
    "\n",
    "vpg_player_options = section_to_dict(config, 'learning_params')\n",
    "vpg_player_options['sample_size'] = timesteps.value\n",
    "\n",
    "vpg_player_dict = {'player_class':VPGPlayer,\n",
    "               'memory':memory.value,\n",
    "               'base_player_options':base_player_options,\n",
    "               'additional_player_options':vpg_player_options,\n",
    "               'player_models':vpg_models,\n",
    "               'player_model_params':vpg_model_params}"
   ]
  },
  {
   "cell_type": "markdown",
   "metadata": {},
   "source": [
    "### PPO"
   ]
  },
  {
   "cell_type": "code",
   "execution_count": 7,
   "metadata": {},
   "outputs": [],
   "source": [
    "config_file_path = 'configs/PPO.ini' \n",
    "config = configparser.ConfigParser()\n",
    "config.read(config_file_path)\n",
    "\n",
    "ppo_models = [section_to_dict(config, 'models'), section_to_dict(config, 'models')]\n",
    "\n",
    "actor_config = section_to_dict(config, 'actor_config')\n",
    "critic_config = section_to_dict(config, 'critic_config')\n",
    "\n",
    "actor_config['input_size'] = input_size\n",
    "actor_config['hidden_sizes'] = (hidden_size_multiple.value*input_size,)\n",
    "actor_config['output_size'] = int(actions_space)\n",
    "\n",
    "critic_config['input_size'] = input_size\n",
    "critic_config['output_size'] = int(1)\n",
    "critic_config['hidden_sizes'] = (4*input_size,)\n",
    "ppo_model_params = [actor_config, critic_config]\n",
    "\n",
    "ppo_player_options = section_to_dict(config, 'learning_params')\n",
    "ppo_player_options['sample_size'] = timesteps.value # train after each round\n",
    "\n",
    "ppo_player_dict = {'player_class':PPOPlayer,\n",
    "                   'memory':memory.value,\n",
    "                   'base_player_options':base_player_options,\n",
    "                   'additional_player_options':ppo_player_options,\n",
    "                   'player_models':ppo_models,\n",
    "                   'player_model_params':ppo_model_params}"
   ]
  },
  {
   "cell_type": "markdown",
   "metadata": {},
   "source": [
    "### DQN"
   ]
  },
  {
   "cell_type": "code",
   "execution_count": 8,
   "metadata": {},
   "outputs": [],
   "source": [
    "config_file_path = 'configs/DQN.ini' \n",
    "config = configparser.ConfigParser()\n",
    "config.read(config_file_path)\n",
    "\n",
    "dqn_model = [section_to_dict(config, 'models')]\n",
    "\n",
    "dqn_model_params = section_to_dict(config, 'model_params')\n",
    "\n",
    "dqn_model_params['input_size'] = input_size\n",
    "dqn_model_params['hidden_sizes'] = (4*input_size,)\n",
    "dqn_model_params['output_size'] = int(actions_space)\n",
    "\n",
    "dqn_player_options = section_to_dict(config, 'learning_params')\n",
    "dqn_player_options['target_update_step'] = timesteps.value # update after each round\n",
    "\n",
    "dqn_player_dict = {'player_class':DQNPlayer,\n",
    "                   'memory':memory.value,\n",
    "               'base_player_options':base_player_options,\n",
    "               'additional_player_options':dqn_player_options,\n",
    "               'player_models':dqn_model,\n",
    "               'player_model_params':[dqn_model_params]}"
   ]
  },
  {
   "cell_type": "markdown",
   "metadata": {},
   "source": [
    "### Run Experiments"
   ]
  },
  {
   "cell_type": "markdown",
   "metadata": {},
   "source": [
    "#### VPG"
   ]
  },
  {
   "cell_type": "code",
   "execution_count": 9,
   "metadata": {},
   "outputs": [
    {
     "name": "stdout",
     "output_type": "stream",
     "text": [
      "Starting timesteps:100, rounds:5, N:20, d:1, VPG\n",
      "2023-10-30 13:06:51.978535\n",
      "Round 0, Start Time 2023-10-30 13:06:51.981701\n",
      "Round 0, Total Time 0:00:00.001243, Time/Game: 0:00:00.000124, Time/timestep: 0:00:00.000001\n",
      "Round 1, Start Time 2023-10-30 13:06:55.012577\n",
      "Round 1, Total Time 0:00:00.000859, Time/Game: 0:00:00.000086, Time/timestep: 0:00:00.000001\n",
      "Round 2, Start Time 2023-10-30 13:06:57.718220\n",
      "Round 2, Total Time 0:00:00.000667, Time/Game: 0:00:00.000067, Time/timestep: 0:00:00.000001\n",
      "Round 3, Start Time 2023-10-30 13:07:00.406028\n",
      "Round 3, Total Time 0:00:00.000638, Time/Game: 0:00:00.000064, Time/timestep: 0:00:00.000001\n",
      "Round 4, Start Time 2023-10-30 13:07:03.303242\n",
      "Round 4, Total Time 0:00:00.000455, Time/Game: 0:00:00.000046, Time/timestep: 0:00:00\n",
      "0:00:14.304979\n"
     ]
    },
    {
     "data": {
      "text/plain": [
       "0"
      ]
     },
     "execution_count": 9,
     "metadata": {},
     "output_type": "execute_result"
    }
   ],
   "source": [
    "experiment = coinGameExperiment.CoinGameExperiment(env_dict=env_dict,\n",
    "                                                   population_dict=population_dict,\n",
    "                                                   player_dict=vpg_player_dict,\n",
    "                                                   device=device,\n",
    "                                                   save_path=None)\n",
    "\n",
    "print(f'Starting timesteps:{timesteps.value}, rounds:{rounds.value}, N:{N.value}, d:{d.value}, VPG')\n",
    "start = datetime.now()\n",
    "print(start)\n",
    "vpg_df, vpg_players, vpg_players_df = experiment.play_multi_rounds(rounds.value, timesteps.value, count.value)\n",
    "print(datetime.now()-start)\n",
    "del experiment\n",
    "gc.collect()"
   ]
  },
  {
   "cell_type": "markdown",
   "metadata": {},
   "source": [
    "#### DQN"
   ]
  },
  {
   "cell_type": "code",
   "execution_count": null,
   "metadata": {},
   "outputs": [
    {
     "name": "stdout",
     "output_type": "stream",
     "text": [
      "Starting timesteps:100, rounds:IntSlider(value=5, description='Rounds', max=1000, min=1, style=SliderStyle(description_width='initial', handle_color='lightblue')), N:IntSlider(value=20, description='N', min=1, style=SliderStyle(description_width='initial', handle_color='lightblue')), d:IntSlider(value=1, description='d', max=10, min=1, style=SliderStyle(description_width='initial', handle_color='lightblue')), VPG\n",
      "2023-10-30 13:07:06.390823\n",
      "Round 0, Start Time 2023-10-30 13:07:06.391241\n",
      "Round 0, Total Time 0:00:00.000384, Time/Game: 0:00:00.000038, Time/timestep: 0:00:00\n",
      "Round 1, Start Time 2023-10-30 13:07:08.458570\n",
      "Round 1, Total Time 0:00:00.000774, Time/Game: 0:00:00.000077, Time/timestep: 0:00:00.000001\n",
      "Round 2, Start Time 2023-10-30 13:07:11.566665\n"
     ]
    }
   ],
   "source": [
    "experiment = coinGameExperiment.CoinGameExperiment(env_dict=env_dict,\n",
    "                                                   population_dict=population_dict,\n",
    "                                                   player_dict=dqn_player_dict,\n",
    "                                                   device=device,\n",
    "                                                   save_path=None)\n",
    "\n",
    "print(f'Starting timesteps:{timesteps.value}, rounds:{rounds}, N:{N}, d:{d}, VPG')\n",
    "start = datetime.now()\n",
    "print(start)\n",
    "dqn_df, dqn_players, dqn_players_df = experiment.play_multi_rounds(rounds.value, timesteps.value, count.value)\n",
    "print(datetime.now()-start)\n",
    "del experiment\n",
    "gc.collect()"
   ]
  },
  {
   "cell_type": "markdown",
   "metadata": {},
   "source": [
    "#### PPO"
   ]
  },
  {
   "cell_type": "code",
   "execution_count": null,
   "metadata": {},
   "outputs": [],
   "source": [
    "experiment = coinGameExperiment.CoinGameExperiment(env_dict=env_dict,\n",
    "                                                   population_dict=population_dict,\n",
    "                                                   player_dict=ppo_player_dict,\n",
    "                                                   device=device,\n",
    "                                                   save_path=None)\n",
    "\n",
    "print(f'Starting timesteps:{timesteps.value}, rounds:{rounds}, N:{N}, d:{d}, VPG')\n",
    "start = datetime.now()\n",
    "print(start)\n",
    "ppo_df, ppo_players, ppo_players_df = experiment.play_multi_rounds(rounds.value, timesteps.value, count.value)\n",
    "print(datetime.now()-start)\n",
    "del experiment\n",
    "gc.collect()"
   ]
  },
  {
   "cell_type": "markdown",
   "metadata": {},
   "source": [
    "### Reward Hist "
   ]
  },
  {
   "cell_type": "code",
   "execution_count": null,
   "metadata": {},
   "outputs": [],
   "source": [
    "plot_reward_hist([ppo_df, vpg_df, dqn_df], ['PPO', 'VPG', 'DQN'])"
   ]
  },
  {
   "cell_type": "markdown",
   "metadata": {},
   "source": [
    "### Pivot Tables"
   ]
  },
  {
   "cell_type": "code",
   "execution_count": null,
   "metadata": {},
   "outputs": [],
   "source": [
    "pivot_ui(ppo_df)"
   ]
  },
  {
   "cell_type": "code",
   "execution_count": null,
   "metadata": {},
   "outputs": [],
   "source": [
    "pivot_ui(vpg_df)"
   ]
  },
  {
   "cell_type": "code",
   "execution_count": null,
   "metadata": {},
   "outputs": [],
   "source": [
    "pivot_ui(dqn_df)"
   ]
  },
  {
   "cell_type": "code",
   "execution_count": null,
   "metadata": {},
   "outputs": [],
   "source": [
    "### analyze "
   ]
  },
  {
   "cell_type": "code",
   "execution_count": null,
   "metadata": {},
   "outputs": [],
   "source": [
    "player = ppo_players[1]"
   ]
  },
  {
   "cell_type": "code",
   "execution_count": null,
   "metadata": {},
   "outputs": [],
   "source": []
  },
  {
   "cell_type": "code",
   "execution_count": null,
   "metadata": {},
   "outputs": [],
   "source": []
  }
 ],
 "metadata": {
  "kernelspec": {
   "display_name": "Python 3 (ipykernel)",
   "language": "python",
   "name": "python3"
  },
  "language_info": {
   "codemirror_mode": {
    "name": "ipython",
    "version": 3
   },
   "file_extension": ".py",
   "mimetype": "text/x-python",
   "name": "python",
   "nbconvert_exporter": "python",
   "pygments_lexer": "ipython3",
   "version": "3.11.0"
  }
 },
 "nbformat": 4,
 "nbformat_minor": 4
}
